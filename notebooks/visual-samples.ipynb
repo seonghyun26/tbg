{
 "cells": [
  {
   "cell_type": "code",
   "execution_count": 14,
   "metadata": {},
   "outputs": [],
   "source": [
    "import tqdm\n",
    "import torch\n",
    "import wandb\n",
    "import numpy as np\n",
    "\n",
    "import mdtraj as md\n",
    "import nglview as nv\n",
    "\n",
    "from tqdm import tqdm\n",
    "\n",
    "\n",
    "n_particles = 22\n",
    "n_dimensions = 3\n",
    "scaling = 10\n",
    "dim = n_particles * n_dimensions"
   ]
  },
  {
   "cell_type": "code",
   "execution_count": 22,
   "metadata": {},
   "outputs": [],
   "source": [
    "# file_name = \"tbg-v1\"\n",
    "file_name = \"FM-AD2-original\"\n",
    "# file_name=\"Flow-Matching-AD2-amber-weighted-encoding-org\""
   ]
  },
  {
   "cell_type": "code",
   "execution_count": 25,
   "metadata": {},
   "outputs": [
    {
     "data": {
      "text/plain": [
       "(200000, 66)"
      ]
     },
     "execution_count": 25,
     "metadata": {},
     "output_type": "execute_result"
    }
   ],
   "source": [
    "\n",
    "npz_file = np.load(f\"../result_data/{file_name}.npz\")\n",
    "latent_np=npz_file[\"latent_np\"]\n",
    "samples_np=npz_file[\"samples_np\"]\n",
    "dlogp_np=npz_file[\"dlogp_np\"]\n",
    "ad2_topology = md.load(\"../data/AD2/c5.pdb\").topology\n",
    "samples_np.shape"
   ]
  },
  {
   "cell_type": "code",
   "execution_count": 30,
   "metadata": {},
   "outputs": [],
   "source": [
    "traj = md.Trajectory(\n",
    "\txyz=(samples_np / scaling).reshape(-1, n_particles, n_dimensions),\n",
    "\ttopology=ad2_topology\n",
    ")"
   ]
  },
  {
   "cell_type": "code",
   "execution_count": 31,
   "metadata": {},
   "outputs": [
    {
     "data": {
      "application/vnd.jupyter.widget-view+json": {
       "model_id": "563787847bcd4e3cb4afc435f0a873ea",
       "version_major": 2,
       "version_minor": 0
      },
      "text/plain": [
       "NGLWidget(max_frame=199999)"
      ]
     },
     "metadata": {},
     "output_type": "display_data"
    }
   ],
   "source": [
    "view = nv.show_mdtraj(traj)\n",
    "view"
   ]
  },
  {
   "cell_type": "code",
   "execution_count": 13,
   "metadata": {},
   "outputs": [
    {
     "data": {
      "application/vnd.jupyter.widget-view+json": {
       "model_id": "eda6cc01cd084b8d85b44f010321845b",
       "version_major": 2,
       "version_minor": 0
      },
      "text/plain": [
       "NGLWidget()"
      ]
     },
     "metadata": {},
     "output_type": "display_data"
    }
   ],
   "source": [
    "nv.show_file(\"../data/AD2/c5.pdb\")"
   ]
  },
  {
   "cell_type": "code",
   "execution_count": null,
   "metadata": {},
   "outputs": [],
   "source": []
  }
 ],
 "metadata": {
  "kernelspec": {
   "display_name": "mlcv",
   "language": "python",
   "name": "python3"
  },
  "language_info": {
   "codemirror_mode": {
    "name": "ipython",
    "version": 3
   },
   "file_extension": ".py",
   "mimetype": "text/x-python",
   "name": "python",
   "nbconvert_exporter": "python",
   "pygments_lexer": "ipython3",
   "version": "3.9.19"
  }
 },
 "nbformat": 4,
 "nbformat_minor": 2
}
