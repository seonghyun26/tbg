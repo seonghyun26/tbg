{
 "cells": [
  {
   "cell_type": "code",
   "execution_count": 2,
   "metadata": {},
   "outputs": [
    {
     "data": {
      "application/vnd.jupyter.widget-view+json": {
       "model_id": "33d97cf924d644049d5fdd654f9a02bf",
       "version_major": 2,
       "version_minor": 0
      },
      "text/plain": []
     },
     "metadata": {},
     "output_type": "display_data"
    }
   ],
   "source": [
    "import torch\n",
    "import numpy as np\n",
    "\n",
    "import mdtraj as md\n",
    "import nglview as nv\n",
    "\n",
    "import matplotlib.pyplot as plt\n",
    "from matplotlib.colors import LogNorm\n",
    "\n",
    "from tqdm import tqdm\n",
    "\n",
    "n_particles = 22\n",
    "n_dimensions = 3\n",
    "dim = n_particles * n_dimensions\n",
    "\n",
    "file_name = \"0522_174800\"\n",
    "state = \"c5\"\n",
    "scaling = 1\n"
   ]
  },
  {
   "cell_type": "markdown",
   "metadata": {},
   "source": [
    "# Visualize samples"
   ]
  },
  {
   "cell_type": "code",
   "execution_count": 7,
   "metadata": {},
   "outputs": [
    {
     "data": {
      "text/plain": [
       "torch.Size([25, 66])"
      ]
     },
     "execution_count": 7,
     "metadata": {},
     "output_type": "execute_result"
    }
   ],
   "source": [
    "latent = torch.load(f\"../res/{file_name}/result/latent-{state}.pt\")\n",
    "samples = torch.load(f\"../res/{file_name}/result/samples-{state}.pt\")\n",
    "dlogp = torch.load(f\"../res/{file_name}/result/dlogp-{state}.pt\")\n",
    "ad2_topology = md.load(\"../data/AD2/c5.pdb\").topology\n",
    "samples.shape"
   ]
  },
  {
   "cell_type": "code",
   "execution_count": 8,
   "metadata": {},
   "outputs": [],
   "source": [
    "samples_view = samples / scaling\n",
    "traj = md.Trajectory(\n",
    "\txyz=samples_view.cpu().detach().numpy().reshape(-1, n_particles, n_dimensions),\n",
    "\ttopology=ad2_topology\n",
    ")"
   ]
  },
  {
   "cell_type": "code",
   "execution_count": 9,
   "metadata": {},
   "outputs": [
    {
     "data": {
      "application/vnd.jupyter.widget-view+json": {
       "model_id": "e697dd1a1e204bdfbae8a8d2c59671c9",
       "version_major": 2,
       "version_minor": 0
      },
      "text/plain": [
       "NGLWidget(max_frame=24)"
      ]
     },
     "metadata": {},
     "output_type": "display_data"
    }
   ],
   "source": [
    "view = nv.show_mdtraj(traj)\n",
    "view"
   ]
  },
  {
   "cell_type": "code",
   "execution_count": 14,
   "metadata": {},
   "outputs": [
    {
     "name": "stdout",
     "output_type": "stream",
     "text": [
      "[ 0.88396364  1.9937592  -2.0292437  -1.5883843  -0.27743158 -1.8722835\n",
      " -1.0496079  -1.4141175  -1.9546298  -2.5100245   2.5321102   0.39496174\n",
      "  1.5656253   2.0258374   2.261167   -2.6461601  -0.9829268   1.6026918\n",
      "  2.6743467   1.8319689   1.6885715  -0.7474046  -0.24777001 -1.1243173\n",
      "  2.0706139 ]\n",
      "[ 0.8278578  -3.0389562   2.7979233   2.8409562   0.17530136  1.3063549\n",
      "  0.3722876   2.4593     -2.6715555   2.2940595  -2.0531178  -2.957246\n",
      " -1.596996   -2.4419909  -2.7879355   2.5011427  -0.882451   -0.95777977\n",
      " -2.8637621  -1.0252899  -1.9555568   2.0199058  -0.72088075  0.67786825\n",
      "  3.1131568 ]\n"
     ]
    }
   ],
   "source": [
    "phis = md.compute_phi(traj)[1].flatten()\n",
    "psis = md.compute_psi(traj)[1].flatten()\n",
    "print(phis)\n",
    "print(psis)"
   ]
  },
  {
   "cell_type": "code",
   "execution_count": 18,
   "metadata": {},
   "outputs": [
    {
     "name": "stdout",
     "output_type": "stream",
     "text": [
      ">> Plotting Ramachandran plot\n"
     ]
    },
    {
     "data": {
      "text/plain": [
       "<Figure size 640x480 with 0 Axes>"
      ]
     },
     "metadata": {},
     "output_type": "display_data"
    },
    {
     "data": {
      "image/png": "[encoded data removed]",
      "text/plain": [
       "<Figure size 600x600 with 1 Axes>"
      ]
     },
     "metadata": {},
     "output_type": "display_data"
    }
   ],
   "source": [
    "print(\">> Plotting Ramachandran plot\")\n",
    "plot_range = [-np.pi, np.pi]\n",
    "plt.clf()\n",
    "fig, ax = plt.subplots(figsize=(6, 6))\n",
    "h, x_bins, y_bins, im = ax.hist2d(\n",
    "    phis, psis, 100,\n",
    "    # norm=LogNorm(),\n",
    "    range=[plot_range,plot_range],\n",
    "    # rasterized=True\n",
    ")\n",
    "ax.scatter(-2.49, 2.67, edgecolors=\"black\", c=\"w\", zorder=101, s=100)\n",
    "ax.scatter(1.02, -0.70, edgecolors=\"black\", c=\"w\", zorder=101, s=300, marker=\"*\")\n",
    "ax.margins(0) \n",
    "ax.tick_params(\n",
    "    left = False,\n",
    "    right = False ,\n",
    "    labelleft = True , \n",
    "    labelbottom = True,\n",
    "    bottom = False\n",
    ") \n",
    "\n",
    "fig.tight_layout()\n"
   ]
  },
  {
   "cell_type": "code",
   "execution_count": null,
   "metadata": {},
   "outputs": [],
   "source": []
  },
  {
   "cell_type": "code",
   "execution_count": null,
   "metadata": {},
   "outputs": [],
   "source": []
  }
 ],
 "metadata": {
  "kernelspec": {
   "display_name": "mlcv",
   "language": "python",
   "name": "python3"
  },
  "language_info": {
   "codemirror_mode": {
    "name": "ipython",
    "version": 3
   },
   "file_extension": ".py",
   "mimetype": "text/x-python",
   "name": "python",
   "nbconvert_exporter": "python",
   "pygments_lexer": "ipython3",
   "version": "3.9.19"
  }
 },
 "nbformat": 4,
 "nbformat_minor": 2
}
