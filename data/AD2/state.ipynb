{
 "cells": [
  {
   "cell_type": "code",
   "execution_count": 1,
   "metadata": {},
   "outputs": [
    {
     "data": {
      "application/vnd.jupyter.widget-view+json": {
       "model_id": "763b0ccb537745e6b6fbce33b27adfca",
       "version_major": 2,
       "version_minor": 0
      },
      "text/plain": []
     },
     "metadata": {},
     "output_type": "display_data"
    }
   ],
   "source": [
    "import os\n",
    "import torch\n",
    "import numpy as np\n",
    "from tqdm.auto import tqdm\n",
    "\n",
    "import mdtraj as md\n",
    "import nglview as nv\n",
    "\n",
    "import openmm as mm\n",
    "import openmm.unit as unit\n",
    "from openmm import app\n",
    "\n",
    "import matplotlib.pyplot as plt\n",
    "from matplotlib.colors import LogNorm\n",
    "\n",
    "\n",
    "def compute_dihedral(positions):\n",
    "    \"\"\"http://stackoverflow.com/q/20305272/1128289\"\"\"\n",
    "    def dihedral(p):\n",
    "        if not isinstance(p, np.ndarray):\n",
    "            p = p.numpy()\n",
    "        b = p[:-1] - p[1:]\n",
    "        b[0] *= -1\n",
    "        v = np.array([v - (v.dot(b[1]) / b[1].dot(b[1])) * b[1] for v in [b[0], b[2]]])\n",
    "        \n",
    "        # Normalize vectors\n",
    "        v /= np.sqrt(np.einsum('...i,...i', v, v)).reshape(-1, 1)\n",
    "        b1 = b[1] / np.linalg.norm(b[1])\n",
    "        x = np.dot(v[0], v[1])\n",
    "        m = np.cross(v[0], b1)\n",
    "        y = np.dot(m, v[1])\n",
    "        \n",
    "        return np.arctan2(y, x)\n",
    "    \n",
    "    angle_list = np.array([\n",
    "\t\tdihedral(p) for p in tqdm(positions, desc=\"Dihedrals\")\n",
    "\t])\n",
    "    \n",
    "    return angle_list\n",
    "\n",
    "PHI_ANGLE = [4, 6, 8, 14]\n",
    "PSI_ANGLE = [6, 8, 14, 16]\n",
    "ALANINE_HEAVY_ATOM_IDX = [0, 4, 5, 6, 8, 10, 14, 15, 16, 18]"
   ]
  },
  {
   "cell_type": "markdown",
   "metadata": {},
   "source": [
    "# State visualization"
   ]
  },
  {
   "cell_type": "code",
   "execution_count": 3,
   "metadata": {},
   "outputs": [
    {
     "name": "stdout",
     "output_type": "stream",
     "text": [
      "<mdtraj.Topology with 1 chains, 3 residues, 22 atoms, 33 bonds>\n"
     ]
    },
    {
     "data": {
      "application/vnd.jupyter.widget-view+json": {
       "model_id": "c7f1ac5a0b2f413d825a2dbed5e7d195",
       "version_major": 2,
       "version_minor": 0
      },
      "text/plain": [
       "NGLWidget()"
      ]
     },
     "metadata": {},
     "output_type": "display_data"
    }
   ],
   "source": [
    "state = md.load(\"c5.pdb\")\n",
    "print(state.topology)\n",
    "nv.show_mdtraj(state)"
   ]
  },
  {
   "cell_type": "code",
   "execution_count": 12,
   "metadata": {},
   "outputs": [
    {
     "name": "stdout",
     "output_type": "stream",
     "text": [
      "<mdtraj.Topology with 1 chains, 3 residues, 22 atoms, 21 bonds>\n"
     ]
    },
    {
     "data": {
      "application/vnd.jupyter.widget-view+json": {
       "model_id": "2844b7e0b7624e16ad4ba5222526c18a",
       "version_major": 2,
       "version_minor": 0
      },
      "text/plain": [
       "NGLWidget()"
      ]
     },
     "metadata": {},
     "output_type": "display_data"
    }
   ],
   "source": [
    "state_tbg = md.load(\"c5-bond-removed.pdb\")\n",
    "print(state_tbg.topology)\n",
    "nv.show_mdtraj(state_tbg)"
   ]
  },
  {
   "cell_type": "code",
   "execution_count": 13,
   "metadata": {},
   "outputs": [
    {
     "name": "stderr",
     "output_type": "stream",
     "text": [
      "Warning: importing 'simtk.openmm' is deprecated.  Import 'openmm' instead.\n",
      "Warning on use of the timeseries module: If the inherent timescales of the system are long compared to those being analyzed, this statistical inefficiency may be an underestimate.  The estimate presumes the use of many statistically independent samples.  Tests should be performed to assess whether this condition is satisfied.   Be cautious in the interpretation of the data.\n",
      "\n",
      "****** PyMBAR will use 64-bit JAX! *******\n",
      "* JAX is currently set to 32-bit bitsize *\n",
      "* which is its default.                  *\n",
      "*                                        *\n",
      "* PyMBAR requires 64-bit mode and WILL   *\n",
      "* enable JAX's 64-bit mode when called.  *\n",
      "*                                        *\n",
      "* This MAY cause problems with other     *\n",
      "* Uses of JAX in the same code.          *\n",
      "******************************************\n",
      "\n"
     ]
    },
    {
     "name": "stdout",
     "output_type": "stream",
     "text": [
      "Using downloaded and verified file: /tmp/A.pdb\n"
     ]
    }
   ],
   "source": [
    "from bgmol.datasets import AImplicitUnconstrained\n",
    "dataset = AImplicitUnconstrained(root=os.getcwd()+\"/../../\", read=True, download=False)"
   ]
  },
  {
   "cell_type": "code",
   "execution_count": 14,
   "metadata": {},
   "outputs": [
    {
     "name": "stdout",
     "output_type": "stream",
     "text": [
      "<mdtraj.Trajectory with 1000000 frames, 22 atoms, 3 residues, without unitcells>\n"
     ]
    },
    {
     "data": {
      "application/vnd.jupyter.widget-view+json": {
       "model_id": "52d171e1704e445790ce2f9f71903a03",
       "version_major": 2,
       "version_minor": 0
      },
      "text/plain": [
       "NGLWidget(max_frame=999999)"
      ]
     },
     "metadata": {},
     "output_type": "display_data"
    }
   ],
   "source": [
    "ala_traj = md.Trajectory(dataset.xyz, dataset.system.mdtraj_topology)\n",
    "print(ala_traj)\n",
    "nv.show_mdtraj(ala_traj)"
   ]
  },
  {
   "cell_type": "code",
   "execution_count": 17,
   "metadata": {},
   "outputs": [],
   "source": [
    "ala_traj[0].save_pdb(\"dataset-sample.pdb\")"
   ]
  },
  {
   "cell_type": "code",
   "execution_count": 25,
   "metadata": {},
   "outputs": [
    {
     "name": "stdout",
     "output_type": "stream",
     "text": [
      "<mdtraj.Topology with 1 chains, 3 residues, 22 atoms, 21 bonds>\n"
     ]
    },
    {
     "data": {
      "application/vnd.jupyter.widget-view+json": {
       "model_id": "3f9f58d71f8b42e2a652f8c5a01d0598",
       "version_major": 2,
       "version_minor": 0
      },
      "text/plain": [
       "NGLWidget()"
      ]
     },
     "metadata": {},
     "output_type": "display_data"
    }
   ],
   "source": [
    "ala_sample = md.load(\"dataset-sample.pdb\")\n",
    "print(ala_sample.topology)\n",
    "nv.show_mdtraj(ala_sample)"
   ]
  },
  {
   "cell_type": "code",
   "execution_count": 44,
   "metadata": {},
   "outputs": [],
   "source": [
    "ala_sample.save(\"test.h5\")"
   ]
  },
  {
   "cell_type": "code",
   "execution_count": 45,
   "metadata": {},
   "outputs": [
    {
     "name": "stdout",
     "output_type": "stream",
     "text": [
      "<mdtraj.Topology with 1 chains, 3 residues, 22 atoms, 21 bonds>\n"
     ]
    }
   ],
   "source": [
    "loaded = md.load(\"test.h5\")\n",
    "print(loaded.topology)"
   ]
  },
  {
   "cell_type": "code",
   "execution_count": 21,
   "metadata": {},
   "outputs": [
    {
     "name": "stdout",
     "output_type": "stream",
     "text": [
      "<Topology; 1 chains, 3 residues, 22 atoms, 21 bonds>\n"
     ]
    }
   ],
   "source": [
    "topology = dataset.system.mdtraj_topology\n",
    "print(topology)"
   ]
  },
  {
   "cell_type": "markdown",
   "metadata": {},
   "source": [
    "# Label generation"
   ]
  },
  {
   "cell_type": "code",
   "execution_count": null,
   "metadata": {},
   "outputs": [
    {
     "name": "stdout",
     "output_type": "stream",
     "text": [
      "torch.Size([100000, 66])\n"
     ]
    }
   ],
   "source": [
    "tbg_data = torch.load(\"AD2_weighted.pt\")\n",
    "print(tbg_data.shape)"
   ]
  },
  {
   "cell_type": "code",
   "execution_count": 3,
   "metadata": {},
   "outputs": [
    {
     "data": {
      "application/vnd.jupyter.widget-view+json": {
       "model_id": "f7e2867013ba44eba3f60a18b7ff4c9d",
       "version_major": 2,
       "version_minor": 0
      },
      "text/plain": [
       "Dihedrals:   0%|          | 0/100000 [00:00<?, ?it/s]"
      ]
     },
     "metadata": {},
     "output_type": "display_data"
    },
    {
     "data": {
      "application/vnd.jupyter.widget-view+json": {
       "model_id": "720844845f324b7081a8261af07dc2ab",
       "version_major": 2,
       "version_minor": 0
      },
      "text/plain": [
       "Dihedrals:   0%|          | 0/100000 [00:00<?, ?it/s]"
      ]
     },
     "metadata": {},
     "output_type": "display_data"
    }
   ],
   "source": [
    "tbg_data = tbg_data.reshape(-1, 22, 3)\n",
    "phi = compute_dihedral(tbg_data[:, PHI_ANGLE])\n",
    "psi = compute_dihedral(tbg_data[:, PSI_ANGLE])"
   ]
  },
  {
   "cell_type": "code",
   "execution_count": 4,
   "metadata": {},
   "outputs": [
    {
     "data": {
      "text/plain": [
       "(100000,)"
      ]
     },
     "execution_count": 4,
     "metadata": {},
     "output_type": "execute_result"
    }
   ],
   "source": [
    "label = np.array([0 if phi < 0 else 1 for phi in phi])\n",
    "color = np.array([\"red\" if phi < 0 else \"blue\" for phi in phi])\n",
    "label.shape"
   ]
  },
  {
   "cell_type": "code",
   "execution_count": 5,
   "metadata": {},
   "outputs": [
    {
     "data": {
      "image/png": "[encoded data removed]",
      "text/plain": [
       "<Figure size 400x300 with 2 Axes>"
      ]
     },
     "metadata": {},
     "output_type": "display_data"
    }
   ],
   "source": [
    "fig, ax = plt.subplots(figsize=(4, 3))\n",
    "plot_range = [-3.2, 3.2]\n",
    "h, x_bins, y_bins, im = ax.hist2d(phi, psi, 100, norm=LogNorm(), range=[plot_range,plot_range],rasterized=True)\n",
    "ticks = np.array([np.exp(-6)*h.max(), np.exp(-4.0)*h.max(),np.exp(-2)*h.max(), h.max()])\n",
    "ax.set_title(\"Current Ram\")\n",
    "ax.set_xlabel(r\"$\\varphi$\", fontsize=15)\n",
    "ax.xaxis.set_tick_params(labelsize=15)\n",
    "ax.yaxis.set_tick_params(labelsize=15)\n",
    "cbar = fig.colorbar(im, ticks=ticks)\n",
    "cbar.ax.set_yticklabels([6.0,4.0,2.0,0.0], fontsize=15)\n",
    "cbar.ax.invert_yaxis()"
   ]
  },
  {
   "cell_type": "code",
   "execution_count": 6,
   "metadata": {},
   "outputs": [
    {
     "name": "stderr",
     "output_type": "stream",
     "text": [
      "No artists with labels found to put in legend.  Note that artists whose label start with an underscore are ignored when legend() is called with no argument.\n"
     ]
    },
    {
     "data": {
      "image/png": "[encoded data removed]",
      "text/plain": [
       "<Figure size 400x300 with 1 Axes>"
      ]
     },
     "metadata": {},
     "output_type": "display_data"
    }
   ],
   "source": [
    "fig, ax = plt.subplots(figsize=(4, 3))\n",
    "plot_range = [-3.2, 3.2]\n",
    "ax.scatter(phi, psi, s=1, color=color, alpha=0.5)\n",
    "ax.legend()\n",
    "ax.set_title(\"Current Ram\")\n",
    "ax.set_xlabel(r\"$\\varphi$\", fontsize=15)\n",
    "ax.xaxis.set_tick_params(labelsize=15)\n",
    "ax.yaxis.set_tick_params(labelsize=15)"
   ]
  },
  {
   "cell_type": "code",
   "execution_count": 11,
   "metadata": {},
   "outputs": [],
   "source": [
    "label_torch = torch.from_numpy(label)\n",
    "torch.save(label_torch, \"AD2_label.pt\")"
   ]
  },
  {
   "cell_type": "markdown",
   "metadata": {},
   "source": [
    "# Energy"
   ]
  },
  {
   "cell_type": "code",
   "execution_count": 28,
   "metadata": {},
   "outputs": [],
   "source": [
    "tbg_data = torch.load(\"AD2_weighted.pt\")\n",
    "label_torch = torch.load(\"AD2_label.pt\")\n",
    "label1_data = tbg_data[label_torch == 1]\n",
    "label0_data = tbg_data[label_torch == 0]\n",
    "\n",
    "scaling = 10\n",
    "pdb_file = \"./c5-tbg.pdb\""
   ]
  },
  {
   "cell_type": "code",
   "execution_count": 17,
   "metadata": {},
   "outputs": [],
   "source": [
    "def init_simulation():\n",
    "    pdb = app.PDBFile(pdb_file)\n",
    "    forcefield = app.ForceField(\"amber99sbildn.xml\", \"tip3p.xml\")\n",
    "    system = forcefield.createSystem(\n",
    "\t\tpdb.topology,\n",
    "\t\tnonbondedMethod=app.PME,\n",
    "\t\tconstraints=app.HBonds,\n",
    "\t\tewaldErrorTolerance=0.0005,\n",
    "\t)\n",
    "    integrator = mm.LangevinIntegrator(\n",
    "        300.0 * unit.kelvin,\n",
    "        0.001 / unit.femtoseconds,\n",
    "        1 * unit.femtoseconds\n",
    "    )\n",
    "    platform = mm.Platform.getPlatformByName(\"OpenCL\")\n",
    "    properties = {'DeviceIndex': '0', 'Precision': \"mixed\"}\n",
    "\n",
    "    simulation = app.Simulation(\n",
    "        pdb.topology,\n",
    "        system,\n",
    "        integrator,\n",
    "        platform,\n",
    "        properties\n",
    "    )        \n",
    "    simulation.context.setPositions(pdb.positions)   \n",
    "    simulation.minimizeEnergy()\n",
    "    \n",
    "    return simulation\n",
    "\n",
    "def set_simulation(simulation, frame):\n",
    "    if frame is not None:\n",
    "        atom_xyz = frame\n",
    "        atom_list = [mm.Vec3(atom[0], atom[1], atom[2]) for atom in atom_xyz]\n",
    "        current_state_openmm = unit.Quantity(value=atom_list, unit=unit.nanometer)\n",
    "        simulation.context.setPositions(current_state_openmm)\n",
    "    else:\n",
    "        raise ValueError(\"Frame is None\")\n",
    "    \n",
    "    simulation.context.setVelocities(unit.Quantity(value=np.zeros(frame.shape), unit=unit.nanometer/unit.picosecond))\n",
    "    \n",
    "    return simulation\n",
    "\n",
    "def potential_energy(trajectory):\n",
    "\tsimulation = init_simulation()\n",
    "\tenergy_list = []\n",
    "\n",
    "\tfor frame in tqdm(\n",
    "\t\ttrajectory,\n",
    "\t\tdesc=\"Calculating potential energy\",\n",
    "\t):\n",
    "\t\tsimulation = set_simulation(simulation, frame)\n",
    "\t\tenergy = simulation.context.getState(getEnergy=True).getPotentialEnergy()\n",
    "\t\tenergy_list.append(energy._value)\n",
    "\n",
    "\treturn np.array(energy_list)"
   ]
  },
  {
   "cell_type": "code",
   "execution_count": 23,
   "metadata": {},
   "outputs": [
    {
     "data": {
      "application/vnd.jupyter.widget-view+json": {
       "model_id": "0e34e4f1ec9241bcbbbe02c56c1da0e9",
       "version_major": 2,
       "version_minor": 0
      },
      "text/plain": [
       "Calculating potential energy:   0%|          | 0/46242 [00:00<?, ?it/s]"
      ]
     },
     "metadata": {},
     "output_type": "display_data"
    },
    {
     "name": "stdout",
     "output_type": "stream",
     "text": [
      "(46242,)\n"
     ]
    }
   ],
   "source": [
    "data1_energy = potential_energy(label1_data.reshape(-1, 22, 3) / scaling)\n",
    "print(data1_energy.shape)"
   ]
  },
  {
   "cell_type": "code",
   "execution_count": 29,
   "metadata": {},
   "outputs": [
    {
     "data": {
      "application/vnd.jupyter.widget-view+json": {
       "model_id": "c6d12a0e551b488fbe082886d16483ae",
       "version_major": 2,
       "version_minor": 0
      },
      "text/plain": [
       "Calculating potential energy:   0%|          | 0/53758 [00:00<?, ?it/s]"
      ]
     },
     "metadata": {},
     "output_type": "display_data"
    },
    {
     "name": "stdout",
     "output_type": "stream",
     "text": [
      "(53758,)\n"
     ]
    }
   ],
   "source": [
    "data0_energy = potential_energy(label0_data.reshape(-1, 22, 3) / scaling )\n",
    "print(data0_energy.shape)"
   ]
  },
  {
   "cell_type": "code",
   "execution_count": 31,
   "metadata": {},
   "outputs": [
    {
     "data": {
      "text/plain": [
       "Text(0.5, 1.0, 'Energy distribution')"
      ]
     },
     "execution_count": 31,
     "metadata": {},
     "output_type": "execute_result"
    },
    {
     "data": {
      "image/png": "[encoded data removed]",
      "text/plain": [
       "<Figure size 400x300 with 1 Axes>"
      ]
     },
     "metadata": {},
     "output_type": "display_data"
    }
   ],
   "source": [
    "plt.figure(figsize=(4,3))\n",
    "\n",
    "plt.hist(data0_energy, bins=100, range=(-50, 200), alpha=0.5, density=True, label=\"Label 0\")\n",
    "plt.hist(data1_energy, bins=100, range=(-50, 200), alpha=0.5, density=True, label=\"Label 1\")\n",
    "plt.legend(fontsize=10)\n",
    "plt.xlabel(\"Energy in kbT \", fontsize=10)  \n",
    "plt.xticks(fontsize=10)\n",
    "plt.yticks(fontsize=10)\n",
    "plt.title(\"Energy distribution\", fontsize=10)"
   ]
  },
  {
   "cell_type": "code",
   "execution_count": null,
   "metadata": {},
   "outputs": [],
   "source": []
  }
 ],
 "metadata": {
  "kernelspec": {
   "display_name": "mlcv",
   "language": "python",
   "name": "python3"
  },
  "language_info": {
   "codemirror_mode": {
    "name": "ipython",
    "version": 3
   },
   "file_extension": ".py",
   "mimetype": "text/x-python",
   "name": "python",
   "nbconvert_exporter": "python",
   "pygments_lexer": "ipython3",
   "version": "3.9.19"
  }
 },
 "nbformat": 4,
 "nbformat_minor": 2
}
